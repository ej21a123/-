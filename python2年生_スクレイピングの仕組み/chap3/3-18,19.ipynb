{
 "cells": [
  {
   "cell_type": "code",
   "execution_count": 3,
   "id": "368325d8",
   "metadata": {},
   "outputs": [
    {
     "name": "stderr",
     "output_type": "stream",
     "text": [
      "C:\\Users\\81701\\anaconda3\\lib\\site-packages\\IPython\\core\\pylabtools.py:152: UserWarning: Glyph 22269 (\\N{CJK UNIFIED IDEOGRAPH-56FD}) missing from current font.\n",
      "  fig.canvas.print_figure(bytes_io, **kw)\n",
      "C:\\Users\\81701\\anaconda3\\lib\\site-packages\\IPython\\core\\pylabtools.py:152: UserWarning: Glyph 35486 (\\N{CJK UNIFIED IDEOGRAPH-8A9E}) missing from current font.\n",
      "  fig.canvas.print_figure(bytes_io, **kw)\n",
      "C:\\Users\\81701\\anaconda3\\lib\\site-packages\\IPython\\core\\pylabtools.py:152: UserWarning: Glyph 25968 (\\N{CJK UNIFIED IDEOGRAPH-6570}) missing from current font.\n",
      "  fig.canvas.print_figure(bytes_io, **kw)\n",
      "C:\\Users\\81701\\anaconda3\\lib\\site-packages\\IPython\\core\\pylabtools.py:152: UserWarning: Glyph 23398 (\\N{CJK UNIFIED IDEOGRAPH-5B66}) missing from current font.\n",
      "  fig.canvas.print_figure(bytes_io, **kw)\n",
      "C:\\Users\\81701\\anaconda3\\lib\\site-packages\\IPython\\core\\pylabtools.py:152: UserWarning: Glyph 33521 (\\N{CJK UNIFIED IDEOGRAPH-82F1}) missing from current font.\n",
      "  fig.canvas.print_figure(bytes_io, **kw)\n",
      "C:\\Users\\81701\\anaconda3\\lib\\site-packages\\IPython\\core\\pylabtools.py:152: UserWarning: Glyph 29702 (\\N{CJK UNIFIED IDEOGRAPH-7406}) missing from current font.\n",
      "  fig.canvas.print_figure(bytes_io, **kw)\n",
      "C:\\Users\\81701\\anaconda3\\lib\\site-packages\\IPython\\core\\pylabtools.py:152: UserWarning: Glyph 31185 (\\N{CJK UNIFIED IDEOGRAPH-79D1}) missing from current font.\n",
      "  fig.canvas.print_figure(bytes_io, **kw)\n",
      "C:\\Users\\81701\\anaconda3\\lib\\site-packages\\IPython\\core\\pylabtools.py:152: UserWarning: Glyph 31038 (\\N{CJK UNIFIED IDEOGRAPH-793E}) missing from current font.\n",
      "  fig.canvas.print_figure(bytes_io, **kw)\n",
      "C:\\Users\\81701\\anaconda3\\lib\\site-packages\\IPython\\core\\pylabtools.py:152: UserWarning: Glyph 20250 (\\N{CJK UNIFIED IDEOGRAPH-4F1A}) missing from current font.\n",
      "  fig.canvas.print_figure(bytes_io, **kw)\n",
      "C:\\Users\\81701\\anaconda3\\lib\\site-packages\\IPython\\core\\pylabtools.py:152: UserWarning: Glyph 22826 (\\N{CJK UNIFIED IDEOGRAPH-592A}) missing from current font.\n",
      "  fig.canvas.print_figure(bytes_io, **kw)\n",
      "C:\\Users\\81701\\anaconda3\\lib\\site-packages\\IPython\\core\\pylabtools.py:152: UserWarning: Glyph 20171 (\\N{CJK UNIFIED IDEOGRAPH-4ECB}) missing from current font.\n",
      "  fig.canvas.print_figure(bytes_io, **kw)\n",
      "C:\\Users\\81701\\anaconda3\\lib\\site-packages\\IPython\\core\\pylabtools.py:152: UserWarning: Glyph 23376 (\\N{CJK UNIFIED IDEOGRAPH-5B50}) missing from current font.\n",
      "  fig.canvas.print_figure(bytes_io, **kw)\n",
      "C:\\Users\\81701\\anaconda3\\lib\\site-packages\\IPython\\core\\pylabtools.py:152: UserWarning: Glyph 37070 (\\N{CJK UNIFIED IDEOGRAPH-90CE}) missing from current font.\n",
      "  fig.canvas.print_figure(bytes_io, **kw)\n",
      "C:\\Users\\81701\\anaconda3\\lib\\site-packages\\IPython\\core\\pylabtools.py:152: UserWarning: Glyph 32654 (\\N{CJK UNIFIED IDEOGRAPH-7F8E}) missing from current font.\n",
      "  fig.canvas.print_figure(bytes_io, **kw)\n",
      "C:\\Users\\81701\\anaconda3\\lib\\site-packages\\IPython\\core\\pylabtools.py:152: UserWarning: Glyph 33756 (\\N{CJK UNIFIED IDEOGRAPH-83DC}) missing from current font.\n",
      "  fig.canvas.print_figure(bytes_io, **kw)\n"
     ]
    },
    {
     "data": {
      "image/png": "[encoded data removed]",
      "text/plain": [
       "<Figure size 640x480 with 1 Axes>"
      ]
     },
     "metadata": {},
     "output_type": "display_data"
    }
   ],
   "source": [
    "import pandas as pd\n",
    "import matplotlib.pyplot as plt\n",
    "\n",
    "df = pd.read_csv(\"test.csv\",index_col=0)\n",
    "\n",
    "colorlist = [\"skyblue\",\"steelblue\",\"tomato\",\"cadetblue\",\"orange\",\"sienna\"]\n",
    "df.T.plot.bar(color = colorlist)\n",
    "plt.legend(loc=\"lower right\")\n",
    "plt.show()"
   ]
  },
  {
   "cell_type": "code",
   "execution_count": 4,
   "id": "f37c3733",
   "metadata": {},
   "outputs": [
    {
     "name": "stderr",
     "output_type": "stream",
     "text": [
      "C:\\Users\\81701\\AppData\\Local\\Temp\\ipykernel_9020\\4284961832.py:9: UserWarning: Glyph 22269 (\\N{CJK UNIFIED IDEOGRAPH-56FD}) missing from current font.\n",
      "  plt.savefig(\"chap3-19 bargraph.png\")\n",
      "C:\\Users\\81701\\AppData\\Local\\Temp\\ipykernel_9020\\4284961832.py:9: UserWarning: Glyph 35486 (\\N{CJK UNIFIED IDEOGRAPH-8A9E}) missing from current font.\n",
      "  plt.savefig(\"chap3-19 bargraph.png\")\n",
      "C:\\Users\\81701\\AppData\\Local\\Temp\\ipykernel_9020\\4284961832.py:9: UserWarning: Glyph 25968 (\\N{CJK UNIFIED IDEOGRAPH-6570}) missing from current font.\n",
      "  plt.savefig(\"chap3-19 bargraph.png\")\n",
      "C:\\Users\\81701\\AppData\\Local\\Temp\\ipykernel_9020\\4284961832.py:9: UserWarning: Glyph 23398 (\\N{CJK UNIFIED IDEOGRAPH-5B66}) missing from current font.\n",
      "  plt.savefig(\"chap3-19 bargraph.png\")\n",
      "C:\\Users\\81701\\AppData\\Local\\Temp\\ipykernel_9020\\4284961832.py:9: UserWarning: Glyph 33521 (\\N{CJK UNIFIED IDEOGRAPH-82F1}) missing from current font.\n",
      "  plt.savefig(\"chap3-19 bargraph.png\")\n",
      "C:\\Users\\81701\\AppData\\Local\\Temp\\ipykernel_9020\\4284961832.py:9: UserWarning: Glyph 29702 (\\N{CJK UNIFIED IDEOGRAPH-7406}) missing from current font.\n",
      "  plt.savefig(\"chap3-19 bargraph.png\")\n",
      "C:\\Users\\81701\\AppData\\Local\\Temp\\ipykernel_9020\\4284961832.py:9: UserWarning: Glyph 31185 (\\N{CJK UNIFIED IDEOGRAPH-79D1}) missing from current font.\n",
      "  plt.savefig(\"chap3-19 bargraph.png\")\n",
      "C:\\Users\\81701\\AppData\\Local\\Temp\\ipykernel_9020\\4284961832.py:9: UserWarning: Glyph 31038 (\\N{CJK UNIFIED IDEOGRAPH-793E}) missing from current font.\n",
      "  plt.savefig(\"chap3-19 bargraph.png\")\n",
      "C:\\Users\\81701\\AppData\\Local\\Temp\\ipykernel_9020\\4284961832.py:9: UserWarning: Glyph 20250 (\\N{CJK UNIFIED IDEOGRAPH-4F1A}) missing from current font.\n",
      "  plt.savefig(\"chap3-19 bargraph.png\")\n",
      "C:\\Users\\81701\\AppData\\Local\\Temp\\ipykernel_9020\\4284961832.py:9: UserWarning: Glyph 22826 (\\N{CJK UNIFIED IDEOGRAPH-592A}) missing from current font.\n",
      "  plt.savefig(\"chap3-19 bargraph.png\")\n",
      "C:\\Users\\81701\\AppData\\Local\\Temp\\ipykernel_9020\\4284961832.py:9: UserWarning: Glyph 20171 (\\N{CJK UNIFIED IDEOGRAPH-4ECB}) missing from current font.\n",
      "  plt.savefig(\"chap3-19 bargraph.png\")\n",
      "C:\\Users\\81701\\AppData\\Local\\Temp\\ipykernel_9020\\4284961832.py:9: UserWarning: Glyph 23376 (\\N{CJK UNIFIED IDEOGRAPH-5B50}) missing from current font.\n",
      "  plt.savefig(\"chap3-19 bargraph.png\")\n",
      "C:\\Users\\81701\\AppData\\Local\\Temp\\ipykernel_9020\\4284961832.py:9: UserWarning: Glyph 37070 (\\N{CJK UNIFIED IDEOGRAPH-90CE}) missing from current font.\n",
      "  plt.savefig(\"chap3-19 bargraph.png\")\n",
      "C:\\Users\\81701\\AppData\\Local\\Temp\\ipykernel_9020\\4284961832.py:9: UserWarning: Glyph 32654 (\\N{CJK UNIFIED IDEOGRAPH-7F8E}) missing from current font.\n",
      "  plt.savefig(\"chap3-19 bargraph.png\")\n",
      "C:\\Users\\81701\\AppData\\Local\\Temp\\ipykernel_9020\\4284961832.py:9: UserWarning: Glyph 33756 (\\N{CJK UNIFIED IDEOGRAPH-83DC}) missing from current font.\n",
      "  plt.savefig(\"chap3-19 bargraph.png\")\n",
      "C:\\Users\\81701\\anaconda3\\lib\\site-packages\\IPython\\core\\pylabtools.py:152: UserWarning: Glyph 22269 (\\N{CJK UNIFIED IDEOGRAPH-56FD}) missing from current font.\n",
      "  fig.canvas.print_figure(bytes_io, **kw)\n",
      "C:\\Users\\81701\\anaconda3\\lib\\site-packages\\IPython\\core\\pylabtools.py:152: UserWarning: Glyph 35486 (\\N{CJK UNIFIED IDEOGRAPH-8A9E}) missing from current font.\n",
      "  fig.canvas.print_figure(bytes_io, **kw)\n",
      "C:\\Users\\81701\\anaconda3\\lib\\site-packages\\IPython\\core\\pylabtools.py:152: UserWarning: Glyph 25968 (\\N{CJK UNIFIED IDEOGRAPH-6570}) missing from current font.\n",
      "  fig.canvas.print_figure(bytes_io, **kw)\n",
      "C:\\Users\\81701\\anaconda3\\lib\\site-packages\\IPython\\core\\pylabtools.py:152: UserWarning: Glyph 23398 (\\N{CJK UNIFIED IDEOGRAPH-5B66}) missing from current font.\n",
      "  fig.canvas.print_figure(bytes_io, **kw)\n",
      "C:\\Users\\81701\\anaconda3\\lib\\site-packages\\IPython\\core\\pylabtools.py:152: UserWarning: Glyph 33521 (\\N{CJK UNIFIED IDEOGRAPH-82F1}) missing from current font.\n",
      "  fig.canvas.print_figure(bytes_io, **kw)\n",
      "C:\\Users\\81701\\anaconda3\\lib\\site-packages\\IPython\\core\\pylabtools.py:152: UserWarning: Glyph 29702 (\\N{CJK UNIFIED IDEOGRAPH-7406}) missing from current font.\n",
      "  fig.canvas.print_figure(bytes_io, **kw)\n",
      "C:\\Users\\81701\\anaconda3\\lib\\site-packages\\IPython\\core\\pylabtools.py:152: UserWarning: Glyph 31185 (\\N{CJK UNIFIED IDEOGRAPH-79D1}) missing from current font.\n",
      "  fig.canvas.print_figure(bytes_io, **kw)\n",
      "C:\\Users\\81701\\anaconda3\\lib\\site-packages\\IPython\\core\\pylabtools.py:152: UserWarning: Glyph 31038 (\\N{CJK UNIFIED IDEOGRAPH-793E}) missing from current font.\n",
      "  fig.canvas.print_figure(bytes_io, **kw)\n",
      "C:\\Users\\81701\\anaconda3\\lib\\site-packages\\IPython\\core\\pylabtools.py:152: UserWarning: Glyph 20250 (\\N{CJK UNIFIED IDEOGRAPH-4F1A}) missing from current font.\n",
      "  fig.canvas.print_figure(bytes_io, **kw)\n",
      "C:\\Users\\81701\\anaconda3\\lib\\site-packages\\IPython\\core\\pylabtools.py:152: UserWarning: Glyph 22826 (\\N{CJK UNIFIED IDEOGRAPH-592A}) missing from current font.\n",
      "  fig.canvas.print_figure(bytes_io, **kw)\n",
      "C:\\Users\\81701\\anaconda3\\lib\\site-packages\\IPython\\core\\pylabtools.py:152: UserWarning: Glyph 20171 (\\N{CJK UNIFIED IDEOGRAPH-4ECB}) missing from current font.\n",
      "  fig.canvas.print_figure(bytes_io, **kw)\n",
      "C:\\Users\\81701\\anaconda3\\lib\\site-packages\\IPython\\core\\pylabtools.py:152: UserWarning: Glyph 23376 (\\N{CJK UNIFIED IDEOGRAPH-5B50}) missing from current font.\n",
      "  fig.canvas.print_figure(bytes_io, **kw)\n",
      "C:\\Users\\81701\\anaconda3\\lib\\site-packages\\IPython\\core\\pylabtools.py:152: UserWarning: Glyph 37070 (\\N{CJK UNIFIED IDEOGRAPH-90CE}) missing from current font.\n",
      "  fig.canvas.print_figure(bytes_io, **kw)\n",
      "C:\\Users\\81701\\anaconda3\\lib\\site-packages\\IPython\\core\\pylabtools.py:152: UserWarning: Glyph 32654 (\\N{CJK UNIFIED IDEOGRAPH-7F8E}) missing from current font.\n",
      "  fig.canvas.print_figure(bytes_io, **kw)\n",
      "C:\\Users\\81701\\anaconda3\\lib\\site-packages\\IPython\\core\\pylabtools.py:152: UserWarning: Glyph 33756 (\\N{CJK UNIFIED IDEOGRAPH-83DC}) missing from current font.\n",
      "  fig.canvas.print_figure(bytes_io, **kw)\n"
     ]
    },
    {
     "data": {
      "image/png": "[encoded data removed]",
      "text/plain": [
       "<Figure size 640x480 with 1 Axes>"
      ]
     },
     "metadata": {},
     "output_type": "display_data"
    }
   ],
   "source": [
    "import pandas as pd\n",
    "import matplotlib.pyplot as plt\n",
    "\n",
    "df = pd.read_csv(\"test.csv\",index_col=0)\n",
    "\n",
    "colorlist = [\"skyblue\",\"steelblue\",\"tomato\",\"cadetblue\",\"orange\",\"sienna\"]\n",
    "df.T.plot.bar(color = colorlist)\n",
    "plt.legend(loc=\"lower right\")\n",
    "plt.savefig(\"chap3-19 bargraph.png\")"
   ]
  },
  {
   "cell_type": "code",
   "execution_count": null,
   "id": "f83e03a1",
   "metadata": {},
   "outputs": [],
   "source": []
  }
 ],
 "metadata": {
  "kernelspec": {
   "display_name": "Python 3 (ipykernel)",
   "language": "python",
   "name": "python3"
  },
  "language_info": {
   "codemirror_mode": {
    "name": "ipython",
    "version": 3
   },
   "file_extension": ".py",
   "mimetype": "text/x-python",
   "name": "python",
   "nbconvert_exporter": "python",
   "pygments_lexer": "ipython3",
   "version": "3.10.9"
  }
 },
 "nbformat": 4,
 "nbformat_minor": 5
}
