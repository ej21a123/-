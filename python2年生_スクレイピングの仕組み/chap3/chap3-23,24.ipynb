{
 "cells": [
  {
   "cell_type": "code",
   "execution_count": 1,
   "id": "ac09ee5d",
   "metadata": {},
   "outputs": [
    {
     "name": "stdout",
     "output_type": "stream",
     "text": [
      "   名前   国語  数学  英語  理科  社会\n",
      "0  C子  100  84  96  82  94\n",
      "1  F菜   96  92  94  92  90\n",
      "2  E美   92  62  84  80  78\n",
      "3  A太   83  89  76  97  76\n",
      "4  B介   66  93  75  88  76\n",
      "5  D郎   60  73  63  52  70\n"
     ]
    }
   ],
   "source": [
    "import pandas as pd\n",
    "import openpyxl\n",
    "\n",
    "df = pd.read_excel(\"csv_to_excel2.xlsx\")\n",
    "print(df)\n",
    "#シート1枚だけを読み込む"
   ]
  },
  {
   "cell_type": "code",
   "execution_count": 2,
   "id": "d2426675",
   "metadata": {},
   "outputs": [
    {
     "name": "stdout",
     "output_type": "stream",
     "text": [
      "   名前   国語  数学  英語  理科  社会\n",
      "0  A太   83  89  76  97  76\n",
      "1  B介   66  93  75  88  76\n",
      "2  C子  100  84  96  82  94\n",
      "3  D郎   60  73  63  52  70\n",
      "4  E美   92  62  84  80  78\n",
      "5  F菜   96  92  94  92  90\n",
      "   名前   国語  数学  英語  理科  社会\n",
      "0  C子  100  84  96  82  94\n",
      "1  F菜   96  92  94  92  90\n",
      "2  E美   92  62  84  80  78\n",
      "3  A太   83  89  76  97  76\n",
      "4  B介   66  93  75  88  76\n",
      "5  D郎   60  73  63  52  70\n"
     ]
    }
   ],
   "source": [
    "import pandas as pd\n",
    "import openpyxl\n",
    "\n",
    "df = pd.read_excel(\"csv_to_excel3.xlsx\")\n",
    "print(df)\n",
    "df = pd.read_excel(\"csv_to_excel3.xlsx\",sheet_name=\"国語でソート\")\n",
    "print(df)"
   ]
  },
  {
   "cell_type": "code",
   "execution_count": null,
   "id": "32e691c5",
   "metadata": {},
   "outputs": [],
   "source": []
  }
 ],
 "metadata": {
  "kernelspec": {
   "display_name": "Python 3 (ipykernel)",
   "language": "python",
   "name": "python3"
  },
  "language_info": {
   "codemirror_mode": {
    "name": "ipython",
    "version": 3
   },
   "file_extension": ".py",
   "mimetype": "text/x-python",
   "name": "python",
   "nbconvert_exporter": "python",
   "pygments_lexer": "ipython3",
   "version": "3.10.9"
  }
 },
 "nbformat": 4,
 "nbformat_minor": 5
}
