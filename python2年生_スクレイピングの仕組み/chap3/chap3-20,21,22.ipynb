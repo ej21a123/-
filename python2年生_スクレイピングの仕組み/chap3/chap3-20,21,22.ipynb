{
 "cells": [
  {
   "cell_type": "code",
   "execution_count": 1,
   "id": "f391a8b1",
   "metadata": {},
   "outputs": [],
   "source": [
    "import pandas as pd\n",
    "import openpyxl\n",
    "\n",
    "df = pd.read_csv(\"test.csv\")\n",
    "\n",
    "kokugo = df.sort_values(\"国語\",ascending=False)\n",
    "\n",
    "kokugo.to_excel(\"csv_to_excel1.xlsx\")"
   ]
  },
  {
   "cell_type": "code",
   "execution_count": 2,
   "id": "2854168f",
   "metadata": {},
   "outputs": [],
   "source": [
    "import pandas as pd\n",
    "import openpyxl\n",
    "\n",
    "df = pd.read_csv(\"test.csv\")\n",
    "\n",
    "kokugo = df.sort_values(\"国語\",ascending=False)\n",
    "\n",
    "kokugo.to_excel(\"csv_to_excel2.xlsx\",index=False,sheet_name=\"国語でソート\")"
   ]
  },
  {
   "cell_type": "code",
   "execution_count": 3,
   "id": "67af5beb",
   "metadata": {},
   "outputs": [],
   "source": [
    "import pandas as pd\n",
    "import openpyxl\n",
    "\n",
    "df = pd.read_csv(\"test.csv\")\n",
    "\n",
    "kokugo = df.sort_values(\"国語\",ascending=False)\n",
    "\n",
    "with pd.ExcelWriter(\"csv_to_excel3.xlsx\") as writer:\n",
    "    df.to_excel(writer,index=False,sheet_name=\"元のデータ\")\n",
    "    kokugo.to_excel(writer,index=False,sheet_name=\"国語でソート\")"
   ]
  },
  {
   "cell_type": "code",
   "execution_count": null,
   "id": "388f81d9",
   "metadata": {},
   "outputs": [],
   "source": []
  }
 ],
 "metadata": {
  "kernelspec": {
   "display_name": "Python 3 (ipykernel)",
   "language": "python",
   "name": "python3"
  },
  "language_info": {
   "codemirror_mode": {
    "name": "ipython",
    "version": 3
   },
   "file_extension": ".py",
   "mimetype": "text/x-python",
   "name": "python",
   "nbconvert_exporter": "python",
   "pygments_lexer": "ipython3",
   "version": "3.10.9"
  }
 },
 "nbformat": 4,
 "nbformat_minor": 5
}
