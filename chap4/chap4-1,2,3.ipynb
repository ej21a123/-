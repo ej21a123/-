{
 "cells": [
  {
   "cell_type": "code",
   "execution_count": 1,
   "id": "56d78aaa",
   "metadata": {},
   "outputs": [
    {
     "name": "stdout",
     "output_type": "stream",
     "text": [
      "3887\n",
      "[ 0  1  2  3  4  5  6  7  8  9 10 11 12 13 14]\n"
     ]
    }
   ],
   "source": [
    "import pandas as pd\n",
    "\n",
    "df = pd.read_csv(\"13TOKYO.CSV\",header=None,encoding = \"shift_jis\")\n",
    "print(len(df))\n",
    "print(df.columns.values)"
   ]
  },
  {
   "cell_type": "code",
   "execution_count": 2,
   "id": "5e699ad5",
   "metadata": {},
   "outputs": [
    {
     "name": "stdout",
     "output_type": "stream",
     "text": [
      "            2    6    7   8\n",
      "2207  1600006  東京都  新宿区  舟町\n"
     ]
    }
   ],
   "source": [
    "import pandas as pd\n",
    "\n",
    "df = pd.read_csv(\"13TOKYO.CSV\",header=None,encoding = \"shift_jis\",dtype = str)\n",
    "\n",
    "results = df[df[2]==\"1600006\"]\n",
    "print(results[[2,6,7,8]])"
   ]
  },
  {
   "cell_type": "code",
   "execution_count": 3,
   "id": "c8bb21f6",
   "metadata": {},
   "outputs": [
    {
     "name": "stdout",
     "output_type": "stream",
     "text": [
      "            2    6    7   8\n",
      "2217  1600004  東京都  新宿区  四谷\n",
      "3385  1830035  東京都  府中市  四谷\n",
      "            2    6     7      8\n",
      "2217  1600004  東京都   新宿区     四谷\n",
      "2218  1600002  東京都   新宿区   四谷坂町\n",
      "2219  1600008  東京都   新宿区  四谷三栄町\n",
      "2220  1600003  東京都   新宿区  四谷本塩町\n",
      "3258  1930813  東京都  八王子市    四谷町\n",
      "3385  1830035  東京都   府中市     四谷\n"
     ]
    }
   ],
   "source": [
    "import pandas as pd\n",
    "\n",
    "df = pd.read_csv(\"13TOKYO.CSV\",header=None,encoding=\"shift_jis\")\n",
    "\n",
    "#8の列が四谷の住所を抽出して表示\n",
    "results = df[df[8]==\"四谷\"]\n",
    "print(results[[2,6,7,8]])\n",
    "\n",
    "#８の列に四谷の文字が含まれる住所を抽出して表示\n",
    "results = df[df[8].str.contains(\"四谷\")]\n",
    "print(results[[2,6,7,8]])"
   ]
  },
  {
   "cell_type": "code",
   "execution_count": null,
   "id": "18456532",
   "metadata": {},
   "outputs": [],
   "source": []
  }
 ],
 "metadata": {
  "kernelspec": {
   "display_name": "Python 3 (ipykernel)",
   "language": "python",
   "name": "python3"
  },
  "language_info": {
   "codemirror_mode": {
    "name": "ipython",
    "version": 3
   },
   "file_extension": ".py",
   "mimetype": "text/x-python",
   "name": "python",
   "nbconvert_exporter": "python",
   "pygments_lexer": "ipython3",
   "version": "3.10.9"
  }
 },
 "nbformat": 4,
 "nbformat_minor": 5
}
