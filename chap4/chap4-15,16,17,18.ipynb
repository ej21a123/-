{
 "cells": [
  {
   "cell_type": "code",
   "execution_count": 2,
   "id": "00ee00d9",
   "metadata": {},
   "outputs": [
    {
     "name": "stdout",
     "output_type": "stream",
     "text": [
      "738\n",
      "['路線番号' '路線名' 'バス停名称' 'バス停名称(英語)' '説明(日本語)' '説明(英語)' '緯度' '経度']\n"
     ]
    }
   ],
   "source": [
    "import pandas as pd\n",
    "\n",
    "df = pd.read_csv(\"バス停.csv\",encoding=\"shift-jis\")\n",
    "\n",
    "print(len(df))\n",
    "print(df.columns.values)"
   ]
  },
  {
   "cell_type": "code",
   "execution_count": 3,
   "id": "12d24a22",
   "metadata": {},
   "outputs": [
    {
     "name": "stdout",
     "output_type": "stream",
     "text": [
      "738\n",
      "[[ 35.969696 136.178467]\n",
      " [ 35.970837 136.178604]\n",
      " [ 35.972881 136.179428]\n",
      " ...\n",
      " [ 35.954151 136.281921]\n",
      " [ 35.954227 136.284424]\n",
      " [ 35.948772 136.301361]]\n"
     ]
    }
   ],
   "source": [
    "import pandas as pd\n",
    "\n",
    "df = pd.read_csv(\"バス停.csv\",encoding=\"shift-jis\")\n",
    "\n",
    "#バス停の緯度と経度をリスト化する\n",
    "basutei = df[[\"緯度\",\"経度\"]].values\n",
    "print(len(basutei))\n",
    "print(basutei)"
   ]
  },
  {
   "cell_type": "code",
   "execution_count": 4,
   "id": "db24c44c",
   "metadata": {},
   "outputs": [],
   "source": [
    "import folium\n",
    "\n",
    "#地図を作って書き出す\n",
    "m = folium.Map(location=[35.942957,136.198863],zoom_start=16)\n",
    "m.save(\"sabaesi.html\")"
   ]
  },
  {
   "cell_type": "code",
   "execution_count": 5,
   "id": "b5c97392",
   "metadata": {},
   "outputs": [],
   "source": [
    "import folium\n",
    "\n",
    "#地図を作って書き出す\n",
    "m = folium.Map(location=[35.942957,136.198863],zoom_start=16)\n",
    "folium.Marker([35.942957,136.198863]).add_to(m)\n",
    "m.save(\"sabaesimark.html\")"
   ]
  },
  {
   "cell_type": "code",
   "execution_count": null,
   "id": "f8ce8c84",
   "metadata": {},
   "outputs": [],
   "source": []
  }
 ],
 "metadata": {
  "kernelspec": {
   "display_name": "Python 3 (ipykernel)",
   "language": "python",
   "name": "python3"
  },
  "language_info": {
   "codemirror_mode": {
    "name": "ipython",
    "version": 3
   },
   "file_extension": ".py",
   "mimetype": "text/x-python",
   "name": "python",
   "nbconvert_exporter": "python",
   "pygments_lexer": "ipython3",
   "version": "3.10.9"
  }
 },
 "nbformat": 4,
 "nbformat_minor": 5
}
