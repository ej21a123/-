{
 "cells": [
  {
   "cell_type": "code",
   "execution_count": 5,
   "id": "de1e4c21",
   "metadata": {},
   "outputs": [
    {
     "name": "stdout",
     "output_type": "stream",
     "text": [
      "4087\n",
      "['Unnamed: 0' 'Unnamed: 1' '/表章事項' '人口【人】.1' '人口【人】.2']\n"
     ]
    }
   ],
   "source": [
    "import pandas as pd\n",
    "\n",
    "#データフレームを読み込む\n",
    "df = pd.read_csv(\"FEH_00200521_240125215953.csv\",index_col=\"人口【人】\",encoding=\"shift_jis\")\n",
    "print(len(df))\n",
    "print(df.columns.values)"
   ]
  },
  {
   "cell_type": "code",
   "execution_count": 16,
   "id": "0122757f",
   "metadata": {},
   "outputs": [
    {
     "name": "stdout",
     "output_type": "stream",
     "text": [
      "人口【人】\n",
      "総数                    NaN\n",
      "126,146,099    61349581.0\n",
      "5,224,614       2465088.0\n",
      "1,973,395        918682.0\n",
      "248,680          112853.0\n",
      "                  ...    \n",
      "22,106            10819.0\n",
      "8,835              4425.0\n",
      "1,058               575.0\n",
      "3,942              2033.0\n",
      "1,676               923.0\n",
      "Name: 人口【人】.1, Length: 4087, dtype: float64\n"
     ]
    }
   ],
   "source": [
    "import pandas as pd\n",
    "import matplotlib.pyplot as plt\n",
    "import matplotlib.font_manager\n",
    "\n",
    "#matplotlib.rcParams['font.family'] = \"Franklin Gothic Demi\"\n",
    "#データフレームを読み込む\n",
    "df = pd.read_csv(\"FEH_00200521_240125215953.csv\",index_col=\"人口【人】\",encoding=\"shift_jis\")\n",
    "\n",
    "df['人口【人】.1'] = pd.to_numeric(df['人口【人】.1'].str.replace(\"男\",\"\").str.replace(\",\",\"\").str.replace(\"-\",\"\"))\n",
    "print(df['人口【人】.1'])"
   ]
  },
  {
   "cell_type": "code",
   "execution_count": 10,
   "id": "ff5fe671",
   "metadata": {},
   "outputs": [
    {
     "name": "stdout",
     "output_type": "stream",
     "text": [
      "['DejaVu Serif', 'STIXSizeFourSym', 'cmex10', 'cmsy10', 'DejaVu Sans Display', 'DejaVu Sans Mono', 'cmtt10', 'cmmi10', 'cmb10', 'STIXGeneral', 'STIXGeneral', 'STIXNonUnicode', 'cmr10', 'DejaVu Sans Mono', 'STIXNonUnicode', 'DejaVu Serif Display', 'STIXSizeOneSym', 'DejaVu Sans Mono', 'DejaVu Serif', 'STIXGeneral', 'DejaVu Sans', 'STIXNonUnicode', 'DejaVu Serif', 'STIXSizeFiveSym', 'STIXSizeThreeSym', 'STIXSizeTwoSym', 'STIXSizeTwoSym', 'STIXGeneral', 'DejaVu Sans', 'DejaVu Sans', 'DejaVu Sans', 'STIXSizeFourSym', 'STIXSizeThreeSym', 'STIXSizeOneSym', 'STIXNonUnicode', 'cmss10', 'DejaVu Serif', 'DejaVu Sans Mono', 'Leelawadee UI', 'Goudy Old Style', 'Microsoft Tai Le', 'Brush Script MT', 'Franklin Gothic Medium', 'High Tower Text', 'Comic Sans MS', 'Segoe UI', 'Wide Latin', 'Monotype Corsiva', 'Viner Hand ITC', 'Berlin Sans FB', 'HoloLens MDL2 Assets', 'Segoe UI Emoji', 'Arial', 'Impact', 'Book Antiqua', 'Lucida Console', 'Palace Script MT', 'Malgun Gothic', 'Lucida Bright', 'Segoe Print', 'Ebrima', 'Calisto MT', 'Lucida Sans', 'Lucida Calligraphy', 'Bookman Old Style', 'Baskerville Old Face', 'Lucida Sans', 'Blackadder ITC', 'HGKyokashotai', 'Segoe Fluent Icons', 'Chiller', 'Felix Titling', 'Mistral', 'Book Antiqua', 'Colonna MT', 'Broadway', 'Palatino Linotype', 'Gill Sans Ultra Bold', 'Microsoft PhagsPa', 'Microsoft Sans Serif', 'Tw Cen MT Condensed', 'Calibri', 'Perpetua Titling MT', 'Old English Text MT', 'Segoe UI', 'Bodoni MT', 'Perpetua Titling MT', 'Century Schoolbook', 'Bahnschrift', 'Constantia', 'Consolas', 'Segoe UI', 'Arial', 'Eras Medium ITC', 'Britannic Bold', 'Lucida Bright', 'Calisto MT', 'Kristen ITC', 'Bookman Old Style', 'Dubai', 'Consolas', 'Monotype Corsiva', 'Yu Gothic', 'Vladimir Script', 'Copperplate Gothic Bold', 'Arial', 'Yu Mincho', 'MS Outlook', 'Georgia', 'Corbel', 'Bell MT', 'Calibri', 'Perpetua Titling MT', 'Franklin Gothic Book', 'Verdana', 'Symbol', 'Agency FB', 'Arial', 'Perpetua', 'Segoe UI Variable', 'Book Antiqua', 'HGSoeiKakugothicUB', 'Comic Sans MS', 'Myanmar Text', 'Courier New', 'Niagara Solid', 'Gill Sans MT', 'Calibri', 'Californian FB', 'Sylfaen', 'Meiryo', 'Segoe Print', 'Goudy Old Style', 'Segoe UI', 'Tw Cen MT', 'Perpetua Titling MT', 'Courier New', 'Franklin Gothic Demi', 'Lucida Handwriting', 'Tahoma', 'Franklin Gothic Heavy', 'Palatino Linotype', 'Broadway', 'Verdana', 'Rage Italic', 'Georgia', 'BIZ UDGothic', 'MS Reference Sans Serif', 'Yu Gothic', 'Wingdings', 'Jokerman', 'Candara', 'Leelawadee UI', 'Niagara Engraved', 'Calibri', 'Bradley Hand ITC', 'Cambria', 'Meiryo', 'Harrington', 'Tw Cen MT', 'Microsoft Yi Baiti', 'Georgia', 'Century Schoolbook', 'Trebuchet MS', 'Lucida Sans Typewriter', 'Palatino Linotype', 'Candara', 'Segoe UI', 'Segoe UI', 'Colonna MT', 'Sitka', 'Courier New', 'Franklin Gothic Medium Cond', 'Corbel', 'Trebuchet MS', 'Franklin Gothic Book', 'UD Digi Kyokasho N-B', 'Bauhaus 93', 'Century Schoolbook', 'Gill Sans Ultra Bold Condensed', 'Gill Sans MT', 'Segoe Print', 'Yu Gothic', 'Informal Roman', 'Segoe UI', 'Bodoni MT', 'Franklin Gothic Heavy', 'Sans Serif Collection', 'Corbel', 'Nirmala UI', 'Book Antiqua', 'Cambria', 'Parchment', 'Lucida Calligraphy', 'Constantia', 'Goudy Stout', 'Consolas', 'Microsoft YaHei', 'Gill Sans Ultra Bold', 'Bookman Old Style', 'Trebuchet MS', 'Cambria', 'BIZ UDGothic', 'HGSoeiPresenceEB', 'Franklin Gothic Demi Cond', 'Freestyle Script', 'Magneto', 'Calibri', 'Calisto MT', 'Californian FB', 'Segoe UI', 'Consolas', 'MV Boli', 'Mistral', 'Microsoft JhengHei', 'Nirmala UI', 'Nirmala UI', 'Bodoni MT', 'Pristina', 'Blackadder ITC', 'Bodoni MT', 'Arial', 'Candara', 'Segoe UI', 'Segoe UI', 'Calisto MT', 'Century Schoolbook', 'Javanese Text', 'Yu Mincho', 'Eras Demi ITC', 'Consolas', 'Malgun Gothic', 'MingLiU-ExtB', 'Microsoft New Tai Lue', 'Papyrus', 'Goudy Old Style', 'HGMinchoE', 'Rockwell Condensed', 'Lucida Sans Unicode', 'Baskerville Old Face', 'Rockwell', 'Segoe UI Variable', 'Calibri', 'Viner Hand ITC', 'Lucida Fax', 'Microsoft YaHei', 'Franklin Gothic Heavy', 'Bodoni MT', 'Verdana', 'Brush Script MT', 'BIZ UDMincho', 'Segoe Script', 'Courier New', 'HGGyoshotai', 'Script MT Bold', 'Webdings', 'Snap ITC', 'Microsoft Yi Baiti', 'Script MT Bold', 'MS Reference Specialty', 'SimSun-ExtB', 'Microsoft YaHei', 'Wide Latin', 'MS Gothic', 'Engravers MT', 'Corbel', 'Sylfaen', 'Lucida Handwriting', 'Microsoft JhengHei', 'OCRB', 'Corbel', 'Microsoft Tai Le', 'Comic Sans MS', 'Calibri', 'Californian FB', 'Segoe UI', 'Rockwell Condensed', 'Lucida Fax', 'Corbel', 'Dubai', 'Segoe UI Emoji', 'Bodoni MT', 'Franklin Gothic Demi', 'Bookman Old Style', 'Gigi', 'Georgia', 'Georgia', 'Tahoma', 'Impact', 'High Tower Text', 'Microsoft JhengHei', 'Tw Cen MT Condensed', 'Arial', 'Gadugi', 'Ink Free', 'Kunstler Script', 'Comic Sans MS', 'Arial', 'Lucida Sans Typewriter', 'Tahoma', 'Playbill', 'Lucida Fax', 'Niagara Engraved', 'Eras Light ITC', 'Microsoft YaHei', 'Ink Free', 'Century', 'Verdana', 'Candara', 'Arial', 'SimSun', 'Malgun Gothic', 'Segoe UI', 'Book Antiqua', 'Lucida Sans', 'Sitka', 'Perpetua', 'Tw Cen MT', 'Showcard Gothic', 'Agency FB', 'UD Digi Kyokasho N-R', 'Eras Demi ITC', 'Old English Text MT', 'Sitka', 'Century Gothic', 'Times New Roman', 'Forte', 'Tw Cen MT', 'Palatino Linotype', 'Rockwell', 'Arial', 'Bookshelf Symbol 7', 'Malgun Gothic', 'Snap ITC', 'Consolas', 'Meiryo', 'Calibri', 'Bell MT', 'Tempus Sans ITC', 'Lucida Sans Typewriter', 'Microsoft Sans Serif', 'Book Antiqua', 'Dubai', 'Harrington', 'Agency FB', 'Microsoft JhengHei', 'Yu Gothic', 'Playbill', 'Britannic Bold', 'Niagara Solid', 'Mongolian Baiti', 'Segoe UI', 'Elephant', 'Cambria', 'Dubai', 'Courier New', 'Leelawadee UI', 'Poor Richard', 'Garamond', 'Century Schoolbook', 'Goudy Stout', 'Bodoni MT', 'Bell MT', 'Californian FB', 'Stencil', 'Segoe Script', 'Copperplate Gothic Bold', 'HGGothicE', 'Gill Sans MT', 'Tw Cen MT Condensed Extra Bold', 'High Tower Text', 'Trebuchet MS', 'Marlett', 'Berlin Sans FB Demi', 'Berlin Sans FB Demi', 'Georgia', 'Curlz MT', 'Calibri', 'Malgun Gothic', 'Centaur', 'HGGothicM', 'Segoe UI', 'SimSun-ExtB', 'Rockwell', 'Century Gothic', 'Lucida Bright', 'Calisto MT', 'Javanese Text', 'Lucida Sans', 'Garamond', 'Meiryo', 'Haettenschweiler', 'Edwardian Script ITC', 'Calibri', 'French Script MT', 'Gloucester MT Extra Condensed', 'Onyx', 'Gill Sans MT', 'Yu Mincho', 'Berlin Sans FB', 'Gill Sans MT Condensed', 'Wingdings 2', 'Ravie', 'Franklin Gothic Medium Cond', 'Myanmar Text', 'Eras Medium ITC', 'Verdana', 'Lucida Bright', 'Bodoni MT', 'Candara', 'Gadugi', 'Rockwell Extra Bold', 'Arial', 'Leelawadee UI', 'Lucida Fax', 'Segoe Script', 'Eras Bold ITC', 'Segoe UI', 'Elephant', 'Bodoni MT', 'Segoe UI Symbol', 'Castellar', 'Modern No. 20', 'Lucida Sans', 'Imprint MT Shadow', 'Palatino Linotype', 'Dubai', 'Segoe UI', 'Rockwell', 'Trebuchet MS', 'Elephant', 'Candara', 'Bookman Old Style', 'HGMinchoB', 'Calisto MT', 'HoloLens MDL2 Assets', 'Segoe UI', 'Lucida Fax', 'Algerian', 'Bernard MT Condensed', 'Lucida Bright', 'Segoe UI Historic', 'Microsoft PhagsPa', 'Gloucester MT Extra Condensed', 'Nirmala UI', 'Candara', 'Dubai', 'Wingdings', 'Franklin Gothic Medium', 'Gill Sans MT Ext Condensed Bold', 'Papyrus', 'Bookman Old Style', 'Century Schoolbook', 'Vladimir Script', 'Malgun Gothic', 'Gill Sans MT', 'Lucida Sans Typewriter', 'Wingdings 3', 'Times New Roman', 'UD Digi Kyokasho N-B', 'Centaur', 'Segoe UI', 'Eras Light ITC', 'Arial', 'Georgia', 'Microsoft Himalaya', 'Perpetua', 'Cooper Black', 'Curlz MT', 'Segoe Fluent Icons', 'Vivaldi', 'Candara', 'MT Extra', 'Verdana', 'Microsoft New Tai Lue', 'Magneto', 'Segoe UI', 'Gadugi', 'BIZ UDMincho', 'Comic Sans MS', 'Gabriola', 'Segoe MDL2 Assets', 'MS Mincho', 'Bauhaus 93', 'Gill Sans MT Ext Condensed Bold', 'Gill Sans MT', 'Segoe UI Historic', 'Verdana', 'Cambria', 'Consolas', 'Yu Mincho', 'Nirmala UI', 'Book Antiqua', 'Cambria', 'Corbel', 'Gadugi', 'Lucida Sans', 'Modern No. 20', 'Franklin Gothic Medium', 'Onyx', 'Felix Titling', 'Corbel', 'Bodoni MT', 'Bodoni MT', 'Century Gothic', 'Leelawadee UI', 'Agency FB', 'Rockwell Extra Bold', 'Times New Roman', 'Berlin Sans FB', 'Franklin Gothic Book', 'Lucida Bright', 'Segoe UI', 'Wingdings 3', 'Candara', 'Microsoft PhagsPa', 'Lucida Sans Typewriter', 'Perpetua', 'Perpetua', 'HGSoeiPresenceEB', 'Bodoni MT', 'Century Schoolbook', 'Garamond', 'High Tower Text', 'Constantia', 'Harlow Solid Italic', 'Maiandra GD', 'Yu Mincho', 'Arial', 'Algerian', 'BIZ UDGothic', 'Times New Roman', 'Arial', 'Microsoft Tai Le', 'Goudy Old Style', 'OCR A Extended', 'Segoe MDL2 Assets', 'Bodoni MT', 'Microsoft YaHei', 'Vivaldi', 'Bodoni MT', 'Matura MT Script Capitals', 'Tahoma', 'Freestyle Script', 'Bookman Old Style', 'Nirmala UI', 'Courier New', 'Lucida Sans Typewriter', 'Californian FB', 'Gabriola', 'Goudy Old Style', 'Arial', 'HGGothicE', 'Franklin Gothic Demi Cond', 'Edwardian Script ITC', 'Palace Script MT', 'Eras Bold ITC', 'Consolas', 'Poor Richard', 'Corbel', 'Lucida Sans Typewriter', 'HGSoeiKakupoptai', 'OCR A Extended', 'Calisto MT', 'Lucida Fax', 'HGSeikaishotaiPRO', 'Candara', 'Bookshelf Symbol 7', 'MS Reference Specialty', 'Bell MT', 'Bernard MT Condensed', 'MS Mincho', 'Segoe Script', 'Times New Roman', 'Century Gothic', 'Arial Rounded MT Bold', 'Times New Roman', 'Book Antiqua', 'Cambria', 'Courier New', 'HGSeikaishotaiPRO', 'Arial', 'Bell MT', 'OCRB', 'Segoe UI', 'UD Digi Kyokasho N-R', 'Engravers MT', 'Cambria', 'Cooper Black', 'Sans Serif Collection', 'Tw Cen MT Condensed', 'Bodoni MT', 'Microsoft PhagsPa', 'Dubai', 'Ravie', 'Trebuchet MS', 'Rockwell', 'Gill Sans MT Condensed', 'Bodoni MT', 'Constantia', 'Lucida Console', 'Rockwell', 'Juice ITC', 'Gill Sans MT', 'Arial', 'Georgia', 'Ebrima', 'SimSun', 'Century', 'Corbel', 'Wingdings 2', 'Candara', 'Trebuchet MS', 'Lucida Bright', 'Goudy Old Style', 'Century Gothic', 'Century Gothic', 'Californian FB', 'HGMaruGothicMPRO', 'Yu Mincho', 'Comic Sans MS', 'Bradley Hand ITC', 'Lucida Sans Typewriter', 'Tw Cen MT', 'MingLiU-ExtB', 'Microsoft Himalaya', 'Footlight MT Light', 'Microsoft New Tai Lue', 'Garamond', 'Lucida Fax', 'Showcard Gothic', 'Segoe UI', 'Tempus Sans ITC', 'Tw Cen MT Condensed', 'Tw Cen MT', 'Informal Roman', 'Garamond', 'Constantia', 'Ebrima', 'Mongolian Baiti', 'HGMinchoE', 'Microsoft Tai Le', 'Kristen ITC', 'Yu Gothic', 'Yu Gothic', 'HGGyoshotai', 'BIZ UDGothic', 'Microsoft YaHei', 'Candara', 'Tw Cen MT Condensed Extra Bold', 'Gill Sans MT', 'Lucida Sans', 'Myanmar Text', 'Constantia', 'Juice ITC', 'Jokerman', 'MV Boli', 'Perpetua', 'Bodoni MT', 'Chiller', 'Elephant', 'Arial', 'Century Gothic', 'Rockwell Condensed', 'MT Extra', 'Maiandra GD', 'Franklin Gothic Heavy', 'Pristina', 'Calibri', 'HGKyokashotai', 'Microsoft JhengHei', 'Bell MT', 'Arial Rounded MT Bold', 'Bahnschrift', 'Ebrima', 'Calibri', 'Constantia', 'Microsoft JhengHei', 'Palatino Linotype', 'HGSoeiKakugothicUB', 'Harlow Solid Italic', 'Footlight MT Light', 'Lucida Sans', 'Bodoni MT', 'Palatino Linotype', 'Franklin Gothic Demi', 'Palatino Linotype', 'Corbel', 'MS Reference Sans Serif', 'Times New Roman', 'Century Gothic', 'Gigi', 'HGMaruGothicMPRO', 'Comic Sans MS', 'Myanmar Text', 'Franklin Gothic Medium', 'Kunstler Script', 'Rockwell', 'Copperplate Gothic Light', 'Symbol', 'Constantia', 'Dubai', 'Times New Roman', 'Franklin Gothic Demi', 'Segoe UI Symbol', 'Bodoni MT', 'Lucida Sans Unicode', 'Castellar', 'Gill Sans Ultra Bold Condensed', 'MS Outlook', 'HGSoeiKakupoptai', 'Imprint MT Shadow', 'Microsoft New Tai Lue', 'Perpetua', 'French Script MT', 'Arial', 'Franklin Gothic Book', 'Bodoni MT', 'Courier New', 'Verdana', 'Rockwell Condensed', 'Forte', 'Leelawadee UI', 'Lucida Bright', 'Stencil', 'Matura MT Script Capitals', 'Comic Sans MS', 'Bodoni MT', 'Copperplate Gothic Light', 'Trebuchet MS', 'Yu Gothic', 'Corbel', 'Webdings', 'Lucida Fax', 'Haettenschweiler', 'Segoe Print', 'Segoe UI', 'Sitka', 'Berlin Sans FB', 'Segoe UI', 'Rage Italic', 'Century Schoolbook', 'Perpetua', 'Tw Cen MT', 'HGGothicM', 'MS Gothic', 'HGMinchoB', 'Tw Cen MT', 'Parchment', 'Rockwell', 'Bookman Old Style', 'Calisto MT', 'Yu Gothic', 'Bodoni MT', 'Garamond']\n"
     ]
    }
   ],
   "source": [
    "import matplotlib.font_manager\n",
    "print([f.name for f in matplotlib.font_manager.fontManager.ttflist])"
   ]
  },
  {
   "cell_type": "code",
   "execution_count": null,
   "id": "0e325cd5",
   "metadata": {},
   "outputs": [],
   "source": []
  }
 ],
 "metadata": {
  "kernelspec": {
   "display_name": "Python 3 (ipykernel)",
   "language": "python",
   "name": "python3"
  },
  "language_info": {
   "codemirror_mode": {
    "name": "ipython",
    "version": 3
   },
   "file_extension": ".py",
   "mimetype": "text/x-python",
   "name": "python",
   "nbconvert_exporter": "python",
   "pygments_lexer": "ipython3",
   "version": "3.10.9"
  }
 },
 "nbformat": 4,
 "nbformat_minor": 5
}
