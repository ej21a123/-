{
 "cells": [
  {
   "cell_type": "code",
   "execution_count": 1,
   "id": "8ad32d8d",
   "metadata": {},
   "outputs": [],
   "source": [
    "import folium\n",
    "import pandas as pd\n",
    "\n",
    "df = pd.read_csv(\"バス停.csv\",encoding=\"shift-jis\")\n",
    "\n",
    "busstop = df[[\"緯度\",\"経度\"]].values\n",
    "\n",
    "#地図を作って書き出す\n",
    "m = folium.Map(location=[35.942957,136.198863],zoom_start=16)\n",
    "for data in busstop:\n",
    "    folium.Marker([data[0],data[1]]).add_to(m)\n",
    "\n",
    "m.save(\"busstop.html\")"
   ]
  },
  {
   "cell_type": "code",
   "execution_count": null,
   "id": "8e09a0e9",
   "metadata": {},
   "outputs": [],
   "source": []
  }
 ],
 "metadata": {
  "kernelspec": {
   "display_name": "Python 3 (ipykernel)",
   "language": "python",
   "name": "python3"
  },
  "language_info": {
   "codemirror_mode": {
    "name": "ipython",
    "version": 3
   },
   "file_extension": ".py",
   "mimetype": "text/x-python",
   "name": "python",
   "nbconvert_exporter": "python",
   "pygments_lexer": "ipython3",
   "version": "3.10.9"
  }
 },
 "nbformat": 4,
 "nbformat_minor": 5
}
