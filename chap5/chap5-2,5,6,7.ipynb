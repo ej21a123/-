{
 "cells": [
  {
   "cell_type": "code",
   "execution_count": 2,
   "id": "bf8475e9",
   "metadata": {},
   "outputs": [
    {
     "name": "stdout",
     "output_type": "stream",
     "text": [
      "{'coord': {'lon': 135.183, 'lat': 34.6913}, 'weather': [{'id': 802, 'main': 'Clouds', 'description': '雲', 'icon': '03n'}], 'base': 'stations', 'main': {'temp': 8.95, 'feels_like': 6.43, 'temp_min': 8.27, 'temp_max': 9.87, 'pressure': 1018, 'humidity': 61}, 'visibility': 10000, 'wind': {'speed': 4.63, 'deg': 260}, 'clouds': {'all': 40}, 'dt': 1707554400, 'sys': {'type': 1, 'id': 7963, 'country': 'JP', 'sunrise': 1707515460, 'sunset': 1707554164}, 'timezone': 32400, 'id': 1859171, 'name': '神戸市', 'cod': 200}\n"
     ]
    }
   ],
   "source": [
    "import requests\n",
    "import json\n",
    "\n",
    "#現在の天気を取得する:神戸\n",
    "url = \"http://api.openweathermap.org/data/2.5/weather?q={city}&appid={key}&lang=ja&units=metric\"\n",
    "url = url.format(city=\"Kobe,JP\",key=\"3ef29478a51673d3da38f05c9819fc71\")\n",
    "\n",
    "jsondata = requests.get(url).json()\n",
    "print(jsondata)"
   ]
  },
  {
   "cell_type": "code",
   "execution_count": 1,
   "id": "f560c982",
   "metadata": {},
   "outputs": [
    {
     "name": "stdout",
     "output_type": "stream",
     "text": [
      "{'base': 'stations',\n",
      " 'clouds': {'all': 11},\n",
      " 'cod': 200,\n",
      " 'coord': {'lat': 34.6913, 'lon': 135.183},\n",
      " 'dt': 1707578717,\n",
      " 'id': 1859171,\n",
      " 'main': {'feels_like': 2.47,\n",
      "          'grnd_level': 1018,\n",
      "          'humidity': 69,\n",
      "          'pressure': 1021,\n",
      "          'sea_level': 1021,\n",
      "          'temp': 4.37,\n",
      "          'temp_max': 6.82,\n",
      "          'temp_min': 2.84},\n",
      " 'name': '神戸市',\n",
      " 'sys': {'country': 'JP',\n",
      "         'id': 8032,\n",
      "         'sunrise': 1707601804,\n",
      "         'sunset': 1707640624,\n",
      "         'type': 1},\n",
      " 'timezone': 32400,\n",
      " 'visibility': 10000,\n",
      " 'weather': [{'description': '薄い雲',\n",
      "              'icon': '02n',\n",
      "              'id': 801,\n",
      "              'main': 'Clouds'}],\n",
      " 'wind': {'deg': 310, 'gust': 2.6, 'speed': 2.16}}\n"
     ]
    }
   ],
   "source": [
    "import requests\n",
    "import json\n",
    "from pprint import pprint\n",
    "\n",
    "#現在の天気を取得する:神戸\n",
    "url = \"http://api.openweathermap.org/data/2.5/weather?q={city}&appid={key}&lang=ja&units=metric\"\n",
    "url = url.format(city=\"Kobe,JP\",key=\"3ef29478a51673d3da38f05c9819fc71\")\n",
    "\n",
    "jsondata = requests.get(url).json()\n",
    "pprint(jsondata)"
   ]
  },
  {
   "cell_type": "code",
   "execution_count": 3,
   "id": "0d2ff7af",
   "metadata": {},
   "outputs": [
    {
     "name": "stdout",
     "output_type": "stream",
     "text": [
      "都市名 　=  神戸市\n",
      "気温　 　=  4.37\n",
      "天気 　　=  Clouds\n",
      "天気詳細 =  薄い雲\n"
     ]
    }
   ],
   "source": [
    "import requests\n",
    "import json\n",
    "\n",
    "#現在の天気を取得する:神戸\n",
    "url = \"http://api.openweathermap.org/data/2.5/weather?q={city}&appid={key}&lang=ja&units=metric\"\n",
    "url = url.format(city=\"Kobe,JP\",key=\"3ef29478a51673d3da38f05c9819fc71\")\n",
    "\n",
    "jsondata = requests.get(url).json()\n",
    "print(\"都市名 　= \",jsondata[\"name\"])\n",
    "print(\"気温　 　= \",jsondata[\"main\"][\"temp\"])\n",
    "print(\"天気 　　= \",jsondata[\"weather\"][0][\"main\"])\n",
    "print(\"天気詳細 = \",jsondata[\"weather\"][0][\"description\"])"
   ]
  },
  {
   "cell_type": "code",
   "execution_count": 4,
   "id": "e34c53bb",
   "metadata": {},
   "outputs": [
    {
     "name": "stdout",
     "output_type": "stream",
     "text": [
      "都市名 　=  ニューヨーク\n",
      "気温　 　=  10.26\n",
      "天気 　　=  Clear\n",
      "天気詳細 =  晴天\n"
     ]
    }
   ],
   "source": [
    "import requests\n",
    "import json\n",
    "\n",
    "#現在の天気を取得する\n",
    "url = \"http://api.openweathermap.org/data/2.5/weather?q={city}&appid={key}&lang=ja&units=metric\"\n",
    "url = url.format(city=\"New York,US\",key=\"3ef29478a51673d3da38f05c9819fc71\")\n",
    "\n",
    "jsondata = requests.get(url).json()\n",
    "print(\"都市名 　= \",jsondata[\"name\"])\n",
    "print(\"気温　 　= \",jsondata[\"main\"][\"temp\"])\n",
    "print(\"天気 　　= \",jsondata[\"weather\"][0][\"main\"])\n",
    "print(\"天気詳細 = \",jsondata[\"weather\"][0][\"description\"])"
   ]
  },
  {
   "cell_type": "code",
   "execution_count": 5,
   "id": "b59f8e9f",
   "metadata": {},
   "outputs": [
    {
     "name": "stdout",
     "output_type": "stream",
     "text": [
      "都市名 　=  London\n",
      "気温　 　=  11.16\n",
      "天気 　　=  Clouds\n",
      "天気詳細 =  厚い雲\n"
     ]
    }
   ],
   "source": [
    "import requests\n",
    "import json\n",
    "\n",
    "#現在の天気を取得する\n",
    "url = \"http://api.openweathermap.org/data/2.5/weather?q={city}&appid={key}&lang=ja&units=metric\"\n",
    "url = url.format(city=\"London,UK\",key=\"3ef29478a51673d3da38f05c9819fc71\")\n",
    "\n",
    "jsondata = requests.get(url).json()\n",
    "print(\"都市名 　= \",jsondata[\"name\"])\n",
    "print(\"気温　 　= \",jsondata[\"main\"][\"temp\"])\n",
    "print(\"天気 　　= \",jsondata[\"weather\"][0][\"main\"])\n",
    "print(\"天気詳細 = \",jsondata[\"weather\"][0][\"description\"])"
   ]
  },
  {
   "cell_type": "code",
   "execution_count": 8,
   "id": "a7e39800",
   "metadata": {},
   "outputs": [
    {
     "name": "stdout",
     "output_type": "stream",
     "text": [
      "都市名 　=  Kakogawachounakatsu\n",
      "気温　 　=  5.22\n",
      "天気 　　=  Clear\n",
      "天気詳細 =  晴天\n"
     ]
    }
   ],
   "source": [
    "import requests\n",
    "import json\n",
    "\n",
    "#現在の天気を取得する:675-0068\n",
    "url = \"http://api.openweathermap.org/data/2.5/weather?zip={zipcode}&appid={key}&lang=ja&units=metric\"\n",
    "url = url.format(zipcode=\"675-0068,JP\",key=\"3ef29478a51673d3da38f05c9819fc71\")\n",
    "\n",
    "jsondata = requests.get(url).json()\n",
    "print(\"都市名 　= \",jsondata[\"name\"])\n",
    "print(\"気温　 　= \",jsondata[\"main\"][\"temp\"])\n",
    "print(\"天気 　　= \",jsondata[\"weather\"][0][\"main\"])\n",
    "print(\"天気詳細 = \",jsondata[\"weather\"][0][\"description\"])"
   ]
  },
  {
   "cell_type": "code",
   "execution_count": null,
   "id": "6e07d883",
   "metadata": {},
   "outputs": [],
   "source": []
  }
 ],
 "metadata": {
  "kernelspec": {
   "display_name": "Python 3 (ipykernel)",
   "language": "python",
   "name": "python3"
  },
  "language_info": {
   "codemirror_mode": {
    "name": "ipython",
    "version": 3
   },
   "file_extension": ".py",
   "mimetype": "text/x-python",
   "name": "python",
   "nbconvert_exporter": "python",
   "pygments_lexer": "ipython3",
   "version": "3.10.9"
  }
 },
 "nbformat": 4,
 "nbformat_minor": 5
}
